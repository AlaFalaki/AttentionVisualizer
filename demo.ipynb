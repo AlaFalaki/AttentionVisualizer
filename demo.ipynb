{
  "nbformat": 4,
  "nbformat_minor": 0,
  "metadata": {
    "colab": {
      "name": "demo.ipynb",
      "provenance": [],
      "collapsed_sections": [
        "ofYLTo72RqFO"
      ],
      "authorship_tag": "ABX9TyOH+MaRRjDJ8DWj2cU9mbOK",
      "include_colab_link": true
    },
    "kernelspec": {
      "name": "python3",
      "display_name": "Python 3"
    },
    "language_info": {
      "name": "python"
    }
  },
  "cells": [
    {
      "cell_type": "markdown",
      "metadata": {
        "id": "view-in-github",
        "colab_type": "text"
      },
      "source": [
        "<a href=\"https://colab.research.google.com/github/AlaFalaki/AttentionVisualizer/blob/main/demo.ipynb\" target=\"_parent\"><img src=\"https://colab.research.google.com/assets/colab-badge.svg\" alt=\"Open In Colab\"/></a>"
      ]
    },
    {
      "cell_type": "markdown",
      "source": [
        "🛑  Instructions to run the demo:\n",
        "\n",
        "\n",
        "1.   Select \"**Runtime -> Run all**\" from the top menu. *(It will download the necessary packages and models.)*\n",
        "2.   You will see the controllers when all the cells are done. It is possible to see the important words by averaging all the layers/heads by clicking the \"VISUALIZE\" button. Or, choose a range of layers/heads as well as an indivual one.\n",
        "\n"
      ],
      "metadata": {
        "id": "9YtuwqEpSVXG"
      }
    },
    {
      "cell_type": "markdown",
      "source": [
        "### Download the Package and install it"
      ],
      "metadata": {
        "id": "ofYLTo72RqFO"
      }
    },
    {
      "cell_type": "code",
      "execution_count": null,
      "metadata": {
        "id": "WkaWHpRMPufs"
      },
      "outputs": [],
      "source": [
        "!pip install git+https://github.com/AlaFalaki/AttentionVisualizer.git"
      ]
    },
    {
      "cell_type": "markdown",
      "source": [
        "### Import the Library"
      ],
      "metadata": {
        "id": "8sYjqdvkRv1s"
      }
    },
    {
      "cell_type": "code",
      "source": [
        "import AttentionVisualizer as av"
      ],
      "metadata": {
        "id": "x4SP--ZgQB2L"
      },
      "execution_count": 2,
      "outputs": []
    },
    {
      "cell_type": "code",
      "source": [
        "obj = av.AttentionVisualizer()"
      ],
      "metadata": {
        "id": "pcjREwLpP5Mp"
      },
      "execution_count": null,
      "outputs": []
    },
    {
      "cell_type": "code",
      "source": [
        "obj.show_controllers(with_sample=True)"
      ],
      "metadata": {
        "id": "TTme94GGQAxq"
      },
      "execution_count": null,
      "outputs": []
    }
  ]
}